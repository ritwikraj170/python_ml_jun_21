{
  "nbformat": 4,
  "nbformat_minor": 0,
  "metadata": {
    "kernelspec": {
      "display_name": "Python 3",
      "language": "python",
      "name": "python3"
    },
    "language_info": {
      "codemirror_mode": {
        "name": "ipython",
        "version": 3
      },
      "file_extension": ".py",
      "mimetype": "text/x-python",
      "name": "python",
      "nbconvert_exporter": "python",
      "pygments_lexer": "ipython3",
      "version": "3.8.3"
    },
    "colab": {
      "name": "Project Clustering Blobs.ipynb",
      "provenance": []
    }
  },
  "cells": [
    {
      "cell_type": "markdown",
      "metadata": {
        "id": "K6uszEF-tg6Q"
      },
      "source": [
        "# Unsupervised Machine Learning - KMeans\n",
        "\n",
        "Support vector machines (SVMs) are a set of supervised learning methods used for classification, regression and outliers detection. SVMs are one of the most robust prediction methods. \n",
        "\n",
        "Sources: \n",
        "[sklearn](https://scikit-learn.org/stable/modules/generated/sklearn.cluster.KMeans.html?highlight=kmeans#sklearn.cluster.KMeans), [wikipedia](https://en.wikipedia.org/wiki/K-means_clustering)"
      ]
    },
    {
      "cell_type": "markdown",
      "metadata": {
        "id": "fUB89AR6C5Br"
      },
      "source": [
        "![kmeans.png](https://www.mathworks.com/matlabcentral/mlc-downloads/downloads/submissions/52579/versions/9/screenshot.jpg)"
      ]
    },
    {
      "cell_type": "code",
      "metadata": {
        "id": "0RAmuhDLHoCD"
      },
      "source": [
        ""
      ],
      "execution_count": null,
      "outputs": []
    },
    {
      "cell_type": "code",
      "metadata": {
        "id": "vBCzB9t0HoCE"
      },
      "source": [
        "import pandas as pd\n",
        "import numpy as np\n",
        "import matplotlib.pyplot as plt\n",
        "from sklearn import datasets\n"
      ],
      "execution_count": 58,
      "outputs": []
    },
    {
      "cell_type": "code",
      "metadata": {
        "id": "S1EQ_D-OHoCF"
      },
      "source": [
        "# Take make moons in built dataset\n",
        "\n",
        "data_ = datasets.make_moons(200)"
      ],
      "execution_count": 59,
      "outputs": []
    },
    {
      "cell_type": "code",
      "metadata": {
        "id": "h586sJt5HoCF",
        "outputId": "770600ec-ff64-4805-ef91-94032ced8f17",
        "colab": {
          "base_uri": "https://localhost:8080/"
        }
      },
      "source": [
        "# check the dataset\n",
        "\n",
        "data_"
      ],
      "execution_count": 60,
      "outputs": [
        {
          "output_type": "execute_result",
          "data": {
            "text/plain": [
              "(array([[-8.73849377e-01,  4.86196736e-01],\n",
              "        [ 6.78509412e-01,  7.34591709e-01],\n",
              "        [-2.35758936e-01,  9.71811568e-01],\n",
              "        [-6.54860734e-01,  7.55749574e-01],\n",
              "        [ 1.11083820e+00, -4.93838464e-01],\n",
              "        [ 1.97542979e+00,  2.79689467e-01],\n",
              "        [-7.23734038e-01,  6.90079011e-01],\n",
              "        [ 9.52418084e-01, -4.98867339e-01],\n",
              "        [-6.05609687e-01,  7.95761841e-01],\n",
              "        [ 1.26150623e-01,  1.38032639e-02],\n",
              "        [ 3.94390313e-01, -2.95761841e-01],\n",
              "        [ 2.01332353e-03,  4.36576080e-01],\n",
              "        [ 2.54735550e-01, -1.66769001e-01],\n",
              "        [ 3.69447333e-01, -2.76146464e-01],\n",
              "        [ 1.96794870e+00,  2.48852013e-01],\n",
              "        [ 3.86345126e-01,  9.22354294e-01],\n",
              "        [ 4.72774532e-01, -3.49725430e-01],\n",
              "        [ 6.13654874e-01, -4.22354294e-01],\n",
              "        [ 7.66044443e-01,  6.42787610e-01],\n",
              "        [ 7.64241064e-01, -4.71811568e-01],\n",
              "        [ 1.91610846e+00,  9.90694646e-02],\n",
              "        [-7.86053095e-01,  6.18158986e-01],\n",
              "        [-8.57983413e-01,  5.13677392e-01],\n",
              "        [ 1.82367658e+00, -6.70598639e-02],\n",
              "        [ 1.87384938e+00,  1.38032639e-02],\n",
              "        [ 9.84134036e-01, -4.99874128e-01],\n",
              "        [-9.97986676e-01,  6.34239197e-02],\n",
              "        [-2.66473814e-01,  9.63842159e-01],\n",
              "        [-2.96920375e-01,  9.54902241e-01],\n",
              "        [ 5.53920064e-01,  8.32569855e-01],\n",
              "        [-4.72271075e-01,  8.81453363e-01],\n",
              "        [ 9.02926538e-01,  4.29794912e-01],\n",
              "        [ 9.28367933e-01,  3.71662456e-01],\n",
              "        [-8.23676581e-01,  5.67059864e-01],\n",
              "        [-6.30552667e-01,  7.76146464e-01],\n",
              "        [ 9.16108457e-01,  4.00930535e-01],\n",
              "        [-4.15415013e-01,  9.09631995e-01],\n",
              "        [-4.44066613e-01,  8.95993774e-01],\n",
              "        [-1.73648178e-01,  9.84807753e-01],\n",
              "        [ 1.85798341e+00, -1.36773916e-02],\n",
              "        [ 1.58659638e-02,  9.99874128e-01],\n",
              "        [ 1.55392006e+00, -3.32569855e-01],\n",
              "        [ 1.42314838e-01,  9.89821442e-01],\n",
              "        [ 9.67948701e-01,  2.51147987e-01],\n",
              "        [-9.99496542e-01,  3.17279335e-02],\n",
              "        [ 1.41541501e+00, -4.09631995e-01],\n",
              "        [ 4.52807743e-03,  4.04943957e-01],\n",
              "        [ 1.35688622e+00, -4.34147860e-01],\n",
              "        [ 9.91954813e-01,  1.26592454e-01],\n",
              "        [ 1.44406661e+00, -3.95993774e-01],\n",
              "        [ 5.55933387e-01, -3.95993774e-01],\n",
              "        [ 1.63055267e+00, -2.76146464e-01],\n",
              "        [-9.28367933e-01,  3.71662456e-01],\n",
              "        [ 8.26351822e-01, -4.84807753e-01],\n",
              "        [-7.66044443e-01,  6.42787610e-01],\n",
              "        [ 1.11164551e-01,  4.17734783e-02],\n",
              "        [ 2.45702131e-02,  2.79689467e-01],\n",
              "        [-3.27067963e-01,  9.45000819e-01],\n",
              "        [ 1.58746467e-01, -4.06408175e-02],\n",
              "        [ 1.17364818e+00, -4.84807753e-01],\n",
              "        [ 1.88883545e+00,  4.17734783e-02],\n",
              "        [-1.00000000e+00,  1.22464680e-16],\n",
              "        [ 2.98525112e-01, -2.12694171e-01],\n",
              "        [ 8.41253533e-01,  5.40640817e-01],\n",
              "        [ 6.05609687e-01,  7.95761841e-01],\n",
              "        [-9.95471923e-01,  9.50560433e-02],\n",
              "        [-3.86345126e-01,  9.22354294e-01],\n",
              "        [ 5.00000000e-01,  8.66025404e-01],\n",
              "        [ 2.35758936e-01,  9.71811568e-01],\n",
              "        [ 9.50071118e-01,  3.12033446e-01],\n",
              "        [ 1.20480667e+00, -4.78802446e-01],\n",
              "        [ 5.80056910e-01,  8.14575952e-01],\n",
              "        [ 1.99949654e+00,  4.68272067e-01],\n",
              "        [ 8.73849377e-01,  4.86196736e-01],\n",
              "        [ 3.27067963e-01,  9.45000819e-01],\n",
              "        [-9.59492974e-01,  2.81732557e-01],\n",
              "        [ 1.52722547e+00, -3.49725430e-01],\n",
              "        [ 7.01474888e-01,  7.12694171e-01],\n",
              "        [-5.80056910e-01,  8.14575952e-01],\n",
              "        [ 3.56886222e-01,  9.34147860e-01],\n",
              "        [ 1.98192870e+00,  3.10748756e-01],\n",
              "        [ 1.94729742e-01, -9.29079291e-02],\n",
              "        [ 5.00000000e-01, -3.66025404e-01],\n",
              "        [ 1.01586596e+00, -4.99874128e-01],\n",
              "        [ 4.15415013e-01,  9.09631995e-01],\n",
              "        [ 1.26647381e+00, -4.63842159e-01],\n",
              "        [ 1.99195481e+00,  3.73407546e-01],\n",
              "        [ 9.75429787e-01,  2.20310533e-01],\n",
              "        [ 1.65486073e+00, -2.55749574e-01],\n",
              "        [-8.88835449e-01,  4.58226522e-01],\n",
              "        [ 2.13946905e-01, -1.18158986e-01],\n",
              "        [-9.75429787e-01,  2.20310533e-01],\n",
              "        [-1.58659638e-02,  9.99874128e-01],\n",
              "        [ 1.58005691e+00, -3.14575952e-01],\n",
              "        [ 7.03079625e-01, -4.54902241e-01],\n",
              "        [ 1.29692038e+00, -4.54902241e-01],\n",
              "        [-8.05270258e-01,  5.92907929e-01],\n",
              "        [ 1.60560969e+00, -2.95761841e-01],\n",
              "        [ 9.20750043e-01, -4.96854776e-01],\n",
              "        [-9.87438889e-01,  1.58001396e-01],\n",
              "        [ 4.46079936e-01, -3.32569855e-01],\n",
              "        [ 8.23676581e-01,  5.67059864e-01],\n",
              "        [-6.78509412e-01,  7.34591709e-01],\n",
              "        [ 9.70734617e-02,  7.02050879e-02],\n",
              "        [ 5.84584987e-01, -4.09631995e-01],\n",
              "        [-9.16108457e-01,  4.00930535e-01],\n",
              "        [-9.50071118e-01,  3.12033446e-01],\n",
              "        [-9.81928697e-01,  1.89251244e-01],\n",
              "        [ 6.72932037e-01, -4.45000819e-01],\n",
              "        [ 4.05070264e-02,  2.18267443e-01],\n",
              "        [-7.45264450e-01,  6.66769001e-01],\n",
              "        [ 1.67850941e+00, -2.34591709e-01],\n",
              "        [ 9.99496542e-01,  3.17279335e-02],\n",
              "        [ 8.04518717e-03,  3.73407546e-01],\n",
              "        [-5.00000000e-01,  8.66025404e-01],\n",
              "        [-9.02926538e-01,  4.29794912e-01],\n",
              "        [ 1.72373404e+00, -1.90079011e-01],\n",
              "        [ 8.88835449e-01,  4.58226522e-01],\n",
              "        [ 2.66473814e-01,  9.63842159e-01],\n",
              "        [ 1.10838200e-01,  9.93838464e-01],\n",
              "        [-1.10838200e-01,  9.93838464e-01],\n",
              "        [ 1.04758192e+00, -4.98867339e-01],\n",
              "        [-7.92499569e-02,  9.96854776e-01],\n",
              "        [ 1.92836793e+00,  1.28337544e-01],\n",
              "        [ 1.90292654e+00,  7.02050879e-02],\n",
              "        [ 2.33955557e-01, -1.42787610e-01],\n",
              "        [ 1.76604444e+00, -1.42787610e-01],\n",
              "        [ 3.20512986e-02,  2.48852013e-01],\n",
              "        [ 7.23734038e-01,  6.90079011e-01],\n",
              "        [ 1.07924996e+00, -4.96854776e-01],\n",
              "        [ 8.57983413e-01,  5.13677392e-01],\n",
              "        [ 1.14231484e+00, -4.89821442e-01],\n",
              "        [ 6.30552667e-01,  7.76146464e-01],\n",
              "        [ 7.86053095e-01,  6.18158986e-01],\n",
              "        [ 6.54860734e-01,  7.55749574e-01],\n",
              "        [ 8.05270258e-01,  5.92907929e-01],\n",
              "        [ 1.25611113e-02,  3.41998604e-01],\n",
              "        [ 1.00000000e+00,  0.00000000e+00],\n",
              "        [ 5.27225468e-01,  8.49725430e-01],\n",
              "        [ 7.45264450e-01,  6.66769001e-01],\n",
              "        [-2.04806668e-01,  9.78802446e-01],\n",
              "        [ 9.95471923e-01,  9.50560433e-02],\n",
              "        [ 2.76265962e-01, -1.90079011e-01],\n",
              "        [ 9.59492974e-01,  2.81732557e-01],\n",
              "        [ 3.45139266e-01, -2.55749574e-01],\n",
              "        [ 9.81928697e-01,  1.89251244e-01],\n",
              "        [ 8.38915426e-02,  9.90694646e-02],\n",
              "        [ 1.50000000e+00, -3.66025404e-01],\n",
              "        [-5.53920064e-01,  8.32569855e-01],\n",
              "        [ 1.98743889e+00,  3.41998604e-01],\n",
              "        [-4.75819158e-02,  9.98867339e-01],\n",
              "        [ 1.42016587e-01, -1.36773916e-02],\n",
              "        [ 1.74526445e+00, -1.66769001e-01],\n",
              "        [ 1.38634513e+00, -4.22354294e-01],\n",
              "        [ 0.00000000e+00,  5.00000000e-01],\n",
              "        [-3.56886222e-01,  9.34147860e-01],\n",
              "        [ 1.76323419e-01, -6.70598639e-02],\n",
              "        [ 8.89161800e-01, -4.93838464e-01],\n",
              "        [ 2.00000000e+00,  5.00000000e-01],\n",
              "        [ 7.95193332e-01, -4.78802446e-01],\n",
              "        [ 1.93969262e+00,  1.57979857e-01],\n",
              "        [ 6.43113778e-01, -4.34147860e-01],\n",
              "        [ 1.70147489e+00, -2.12694171e-01],\n",
              "        [ 8.57685162e-01, -4.89821442e-01],\n",
              "        [ 1.99798668e+00,  4.36576080e-01],\n",
              "        [ 4.44066613e-01,  8.95993774e-01],\n",
              "        [ 7.16320670e-02,  1.28337544e-01],\n",
              "        [ 1.95007112e+00,  1.87966554e-01],\n",
              "        [-8.41253533e-01,  5.40640817e-01],\n",
              "        [ 9.87438889e-01,  1.58001396e-01],\n",
              "        [ 7.33526186e-01, -4.63842159e-01],\n",
              "        [ 1.84125353e+00, -4.06408175e-02],\n",
              "        [ 6.03073792e-02,  1.57979857e-01],\n",
              "        [ 9.97986676e-01,  6.34239197e-02],\n",
              "        [ 2.04806668e-01,  9.78802446e-01],\n",
              "        [ 1.99547192e+00,  4.04943957e-01],\n",
              "        [ 1.73648178e-01,  9.84807753e-01],\n",
              "        [ 1.32706796e+00, -4.45000819e-01],\n",
              "        [ 2.96920375e-01,  9.54902241e-01],\n",
              "        [ 1.47227107e+00, -3.81453363e-01],\n",
              "        [ 5.27728925e-01, -3.81453363e-01],\n",
              "        [ 3.21490588e-01, -2.34591709e-01],\n",
              "        [ 4.19943090e-01, -3.14575952e-01],\n",
              "        [ 7.92499569e-02,  9.96854776e-01],\n",
              "        [ 4.75819158e-02,  9.98867339e-01],\n",
              "        [-7.01474888e-01,  7.12694171e-01],\n",
              "        [ 1.80527026e+00, -9.29079291e-02],\n",
              "        [ 5.03457617e-04,  4.68272067e-01],\n",
              "        [-5.27225468e-01,  8.49725430e-01],\n",
              "        [ 4.99288823e-02,  1.87966554e-01],\n",
              "        [-1.42314838e-01,  9.89821442e-01],\n",
              "        [-9.67948701e-01,  2.51147987e-01],\n",
              "        [ 1.80713027e-02,  3.10748756e-01],\n",
              "        [ 9.39692621e-01,  3.42020143e-01],\n",
              "        [ 1.95949297e+00,  2.18267443e-01],\n",
              "        [ 1.78605309e+00, -1.18158986e-01],\n",
              "        [ 1.23575894e+00, -4.71811568e-01],\n",
              "        [ 4.72271075e-01,  8.81453363e-01],\n",
              "        [-9.91954813e-01,  1.26592454e-01],\n",
              "        [-9.39692621e-01,  3.42020143e-01]]),\n",
              " array([0, 0, 0, 0, 1, 1, 0, 1, 0, 1, 1, 1, 1, 1, 1, 0, 1, 1, 0, 1, 1, 0,\n",
              "        0, 1, 1, 1, 0, 0, 0, 0, 0, 0, 0, 0, 0, 0, 0, 0, 0, 1, 0, 1, 0, 0,\n",
              "        0, 1, 1, 1, 0, 1, 1, 1, 0, 1, 0, 1, 1, 0, 1, 1, 1, 0, 1, 0, 0, 0,\n",
              "        0, 0, 0, 0, 1, 0, 1, 0, 0, 0, 1, 0, 0, 0, 1, 1, 1, 1, 0, 1, 1, 0,\n",
              "        1, 0, 1, 0, 0, 1, 1, 1, 0, 1, 1, 0, 1, 0, 0, 1, 1, 0, 0, 0, 1, 1,\n",
              "        0, 1, 0, 1, 0, 0, 1, 0, 0, 0, 0, 1, 0, 1, 1, 1, 1, 1, 0, 1, 0, 1,\n",
              "        0, 0, 0, 0, 1, 0, 0, 0, 0, 0, 1, 0, 1, 0, 1, 1, 0, 1, 0, 1, 1, 1,\n",
              "        1, 0, 1, 1, 1, 1, 1, 1, 1, 1, 1, 0, 1, 1, 0, 0, 1, 1, 1, 0, 0, 1,\n",
              "        0, 1, 0, 1, 1, 1, 1, 0, 0, 0, 1, 1, 0, 1, 0, 0, 1, 0, 1, 1, 1, 0,\n",
              "        0, 0]))"
            ]
          },
          "metadata": {
            "tags": []
          },
          "execution_count": 60
        }
      ]
    },
    {
      "cell_type": "code",
      "metadata": {
        "id": "fwQcUAgyHoCH"
      },
      "source": [
        "# create input dataframe\n",
        "\n",
        "inputData = pd.DataFrame(data = data_[0])"
      ],
      "execution_count": 61,
      "outputs": []
    },
    {
      "cell_type": "code",
      "metadata": {
        "id": "N1Cjbo1NHoCI",
        "outputId": "9b4b6e02-829e-4ed9-cff3-3cab6e05dc93",
        "colab": {
          "base_uri": "https://localhost:8080/",
          "height": 204
        }
      },
      "source": [
        "inputData.head()"
      ],
      "execution_count": 62,
      "outputs": [
        {
          "output_type": "execute_result",
          "data": {
            "text/html": [
              "<div>\n",
              "<style scoped>\n",
              "    .dataframe tbody tr th:only-of-type {\n",
              "        vertical-align: middle;\n",
              "    }\n",
              "\n",
              "    .dataframe tbody tr th {\n",
              "        vertical-align: top;\n",
              "    }\n",
              "\n",
              "    .dataframe thead th {\n",
              "        text-align: right;\n",
              "    }\n",
              "</style>\n",
              "<table border=\"1\" class=\"dataframe\">\n",
              "  <thead>\n",
              "    <tr style=\"text-align: right;\">\n",
              "      <th></th>\n",
              "      <th>0</th>\n",
              "      <th>1</th>\n",
              "    </tr>\n",
              "  </thead>\n",
              "  <tbody>\n",
              "    <tr>\n",
              "      <th>0</th>\n",
              "      <td>-0.873849</td>\n",
              "      <td>0.486197</td>\n",
              "    </tr>\n",
              "    <tr>\n",
              "      <th>1</th>\n",
              "      <td>0.678509</td>\n",
              "      <td>0.734592</td>\n",
              "    </tr>\n",
              "    <tr>\n",
              "      <th>2</th>\n",
              "      <td>-0.235759</td>\n",
              "      <td>0.971812</td>\n",
              "    </tr>\n",
              "    <tr>\n",
              "      <th>3</th>\n",
              "      <td>-0.654861</td>\n",
              "      <td>0.755750</td>\n",
              "    </tr>\n",
              "    <tr>\n",
              "      <th>4</th>\n",
              "      <td>1.110838</td>\n",
              "      <td>-0.493838</td>\n",
              "    </tr>\n",
              "  </tbody>\n",
              "</table>\n",
              "</div>"
            ],
            "text/plain": [
              "          0         1\n",
              "0 -0.873849  0.486197\n",
              "1  0.678509  0.734592\n",
              "2 -0.235759  0.971812\n",
              "3 -0.654861  0.755750\n",
              "4  1.110838 -0.493838"
            ]
          },
          "metadata": {
            "tags": []
          },
          "execution_count": 62
        }
      ]
    },
    {
      "cell_type": "code",
      "metadata": {
        "id": "PGtconXRHoCI",
        "outputId": "62e41d4d-c828-4bf3-e37c-6ac7fa253115",
        "colab": {
          "base_uri": "https://localhost:8080/",
          "height": 204
        }
      },
      "source": [
        "# create output dataframe\n",
        "\n",
        "outputData = pd.DataFrame(data = data_[1])\n",
        "outputData.head()"
      ],
      "execution_count": 63,
      "outputs": [
        {
          "output_type": "execute_result",
          "data": {
            "text/html": [
              "<div>\n",
              "<style scoped>\n",
              "    .dataframe tbody tr th:only-of-type {\n",
              "        vertical-align: middle;\n",
              "    }\n",
              "\n",
              "    .dataframe tbody tr th {\n",
              "        vertical-align: top;\n",
              "    }\n",
              "\n",
              "    .dataframe thead th {\n",
              "        text-align: right;\n",
              "    }\n",
              "</style>\n",
              "<table border=\"1\" class=\"dataframe\">\n",
              "  <thead>\n",
              "    <tr style=\"text-align: right;\">\n",
              "      <th></th>\n",
              "      <th>0</th>\n",
              "    </tr>\n",
              "  </thead>\n",
              "  <tbody>\n",
              "    <tr>\n",
              "      <th>0</th>\n",
              "      <td>0</td>\n",
              "    </tr>\n",
              "    <tr>\n",
              "      <th>1</th>\n",
              "      <td>0</td>\n",
              "    </tr>\n",
              "    <tr>\n",
              "      <th>2</th>\n",
              "      <td>0</td>\n",
              "    </tr>\n",
              "    <tr>\n",
              "      <th>3</th>\n",
              "      <td>0</td>\n",
              "    </tr>\n",
              "    <tr>\n",
              "      <th>4</th>\n",
              "      <td>1</td>\n",
              "    </tr>\n",
              "  </tbody>\n",
              "</table>\n",
              "</div>"
            ],
            "text/plain": [
              "   0\n",
              "0  0\n",
              "1  0\n",
              "2  0\n",
              "3  0\n",
              "4  1"
            ]
          },
          "metadata": {
            "tags": []
          },
          "execution_count": 63
        }
      ]
    },
    {
      "cell_type": "code",
      "metadata": {
        "id": "MnSU312FHoCJ",
        "outputId": "4938d29f-4e0c-4e68-a104-176aec58bd02",
        "colab": {
          "base_uri": "https://localhost:8080/",
          "height": 282
        }
      },
      "source": [
        "# create a scatter plot for inputData set\n",
        "\n",
        "plt.scatter(inputData[0], inputData[1])"
      ],
      "execution_count": 64,
      "outputs": [
        {
          "output_type": "execute_result",
          "data": {
            "text/plain": [
              "<matplotlib.collections.PathCollection at 0x7fcc17ab63d0>"
            ]
          },
          "metadata": {
            "tags": []
          },
          "execution_count": 64
        },
        {
          "output_type": "display_data",
          "data": {
            "image/png": "[encoded data removed]",
            "text/plain": [
              "<Figure size 432x288 with 1 Axes>"
            ]
          },
          "metadata": {
            "tags": [],
            "needs_background": "light"
          }
        }
      ]
    },
    {
      "cell_type": "code",
      "metadata": {
        "id": "5x16ga_dHoCK",
        "outputId": "a442b1fb-52c3-49eb-e163-7bc2b0579469",
        "colab": {
          "base_uri": "https://localhost:8080/",
          "height": 282
        }
      },
      "source": [
        "# create a scatter plot for inputData set with outputData color\n",
        "\n",
        "plt.scatter(inputData[0], inputData[1], c = outputData)"
      ],
      "execution_count": 65,
      "outputs": [
        {
          "output_type": "execute_result",
          "data": {
            "text/plain": [
              "<matplotlib.collections.PathCollection at 0x7fcc17a24f10>"
            ]
          },
          "metadata": {
            "tags": []
          },
          "execution_count": 65
        },
        {
          "output_type": "display_data",
          "data": {
            "image/png": "[encoded data removed]",
            "text/plain": [
              "<Figure size 432x288 with 1 Axes>"
            ]
          },
          "metadata": {
            "tags": [],
            "needs_background": "light"
          }
        }
      ]
    },
    {
      "cell_type": "code",
      "metadata": {
        "id": "3E7ne7hyHoCK"
      },
      "source": [
        ""
      ],
      "execution_count": null,
      "outputs": []
    },
    {
      "cell_type": "code",
      "metadata": {
        "id": "ZTwoHlPYHoCK",
        "outputId": "8d7d08ad-8d8d-4aa2-8a49-4beaede5d1f6",
        "colab": {
          "base_uri": "https://localhost:8080/"
        }
      },
      "source": [
        "# Call the sklearn Kmeans and make a model with 200 samples\n",
        "from sklearn.cluster import KMeans\n",
        "model = KMeans(n_clusters=5)\n",
        "model.fit(inputData)\n",
        "\n",
        "\n",
        "#model_fit\n"
      ],
      "execution_count": 73,
      "outputs": [
        {
          "output_type": "execute_result",
          "data": {
            "text/plain": [
              "KMeans(algorithm='auto', copy_x=True, init='k-means++', max_iter=300,\n",
              "       n_clusters=5, n_init=10, n_jobs=None, precompute_distances='auto',\n",
              "       random_state=None, tol=0.0001, verbose=0)"
            ]
          },
          "metadata": {
            "tags": []
          },
          "execution_count": 73
        }
      ]
    },
    {
      "cell_type": "code",
      "metadata": {
        "id": "nj4e6ijvHoCL",
        "outputId": "3b734fc9-d89a-4266-81ad-437b5f7acbfd",
        "colab": {
          "base_uri": "https://localhost:8080/"
        }
      },
      "source": [
        "# check for labels\n",
        "\n",
        "model.labels_"
      ],
      "execution_count": 74,
      "outputs": [
        {
          "output_type": "execute_result",
          "data": {
            "text/plain": [
              "array([1, 0, 4, 1, 3, 2, 1, 3, 1, 3, 3, 4, 3, 3, 2, 4, 3, 3, 0, 3, 2, 1,\n",
              "       1, 2, 2, 3, 1, 4, 4, 0, 4, 0, 0, 1, 1, 0, 4, 4, 4, 2, 4, 2, 4, 0,\n",
              "       1, 2, 4, 2, 0, 2, 3, 2, 1, 3, 1, 3, 4, 4, 3, 3, 2, 1, 3, 0, 0, 1,\n",
              "       4, 4, 4, 0, 3, 0, 2, 0, 4, 1, 2, 0, 1, 4, 2, 3, 3, 3, 4, 2, 2, 0,\n",
              "       2, 1, 3, 1, 4, 2, 3, 2, 1, 2, 3, 1, 3, 0, 1, 3, 3, 1, 1, 1, 3, 4,\n",
              "       1, 2, 0, 4, 1, 1, 2, 0, 4, 4, 4, 3, 4, 2, 2, 3, 2, 4, 0, 3, 0, 3,\n",
              "       0, 0, 0, 0, 4, 0, 4, 0, 4, 0, 3, 0, 3, 0, 3, 2, 1, 2, 4, 3, 2, 2,\n",
              "       4, 4, 3, 3, 2, 3, 2, 3, 2, 3, 2, 4, 3, 2, 1, 0, 3, 2, 4, 0, 4, 2,\n",
              "       4, 2, 4, 2, 3, 3, 3, 4, 4, 1, 2, 4, 1, 4, 4, 1, 4, 0, 2, 2, 2, 4,\n",
              "       1, 1], dtype=int32)"
            ]
          },
          "metadata": {
            "tags": []
          },
          "execution_count": 74
        }
      ]
    },
    {
      "cell_type": "code",
      "metadata": {
        "id": "BWErnoXHHoCL"
      },
      "source": [
        "from sklearn import metrics"
      ],
      "execution_count": 75,
      "outputs": []
    },
    {
      "cell_type": "code",
      "metadata": {
        "id": "we65Jv0LHoCL",
        "outputId": "c6e78c1c-c8a4-44c8-ac23-ba33fdb85030",
        "colab": {
          "base_uri": "https://localhost:8080/"
        }
      },
      "source": [
        "# call metrics and check silhoutte score\n",
        "\n",
        "metrics.silhouette_score(inputData, model.labels_)"
      ],
      "execution_count": 79,
      "outputs": [
        {
          "output_type": "execute_result",
          "data": {
            "text/plain": [
              "0.49207421235790266"
            ]
          },
          "metadata": {
            "tags": []
          },
          "execution_count": 79
        }
      ]
    },
    {
      "cell_type": "code",
      "metadata": {
        "id": "TwxH5t-1HoCM",
        "outputId": "cb267f26-6363-4b53-b82f-9152753d045e",
        "colab": {
          "base_uri": "https://localhost:8080/",
          "height": 282
        }
      },
      "source": [
        "# create a scatter plot for inputData set with model labels color\n",
        "\n",
        "plt.scatter(inputData[0], inputData[1], c = model.labels_)"
      ],
      "execution_count": 76,
      "outputs": [
        {
          "output_type": "execute_result",
          "data": {
            "text/plain": [
              "<matplotlib.collections.PathCollection at 0x7fcc179b7e50>"
            ]
          },
          "metadata": {
            "tags": []
          },
          "execution_count": 76
        },
        {
          "output_type": "display_data",
          "data": {
            "image/png": "[encoded data removed]",
            "text/plain": [
              "<Figure size 432x288 with 1 Axes>"
            ]
          },
          "metadata": {
            "tags": [],
            "needs_background": "light"
          }
        }
      ]
    },
    {
      "cell_type": "markdown",
      "metadata": {
        "id": "EOFSvs8zHoCM"
      },
      "source": [
        "#### finding right number of cluster"
      ]
    },
    {
      "cell_type": "code",
      "metadata": {
        "id": "UN2QQS_HHoCN"
      },
      "source": [
        "cluster_range = range(1, 20)\n",
        "error_list = []\n",
        "\n",
        "for i in cluster_range:\n",
        "    model = KMeans(n_clusters=i)\n",
        "    model.fit(inputData)\n",
        "    res = model.inertia_\n",
        "    error_list.append(res)"
      ],
      "execution_count": 77,
      "outputs": []
    },
    {
      "cell_type": "code",
      "metadata": {
        "id": "410lMp40HoCN",
        "outputId": "a9e5e65b-f05a-4dd9-edae-3c0118fa16b6",
        "colab": {
          "base_uri": "https://localhost:8080/",
          "height": 295
        }
      },
      "source": [
        "import matplotlib.pyplot as plt\n",
        "\n",
        "plt.plot(cluster_range, error_list, marker = \"o\", color = \"g\", markersize = 10)\n",
        "plt.xlabel(\"Cluster Range\")\n",
        "plt.ylabel(\"IntraCluster Sum\")\n",
        "plt.title(\"KMeans\")\n",
        "plt.show()"
      ],
      "execution_count": 78,
      "outputs": [
        {
          "output_type": "display_data",
          "data": {
            "image/png": "[encoded data removed]",
            "text/plain": [
              "<Figure size 432x288 with 1 Axes>"
            ]
          },
          "metadata": {
            "tags": [],
            "needs_background": "light"
          }
        }
      ]
    },
    {
      "cell_type": "code",
      "metadata": {
        "id": "EQo7OzMyHoCN"
      },
      "source": [
        ""
      ],
      "execution_count": null,
      "outputs": []
    },
    {
      "cell_type": "code",
      "metadata": {
        "id": "m35VOF5BHoCO"
      },
      "source": [
        ""
      ],
      "execution_count": null,
      "outputs": []
    }
  ]
}